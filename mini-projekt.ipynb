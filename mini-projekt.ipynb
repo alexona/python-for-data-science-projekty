{
 "cells": [
  {
   "cell_type": "markdown",
   "metadata": {},
   "source": [
    "<p style=\"font-family: Arial; font-size:3.5em; color:purple; font-style:bold\">\n",
    "Źródła energii elektrycznej w Polsce</p><br>\n"
   ]
  },
  {
   "cell_type": "markdown",
   "metadata": {},
   "source": [
    "Źródło danych: *World Development Indicators* https://www.kaggle.com/worldbank/world-development-indicators\n",
    "\n",
    "W pracy tej dokonam analizy źródeł energii elektrycznej w Polsce. Porównam także dane dla Polski z danymi na świecie."
   ]
  },
  {
   "cell_type": "markdown",
   "metadata": {
    "collapsed": true
   },
   "source": [
    "# Eksploracja danych"
   ]
  },
  {
   "cell_type": "code",
   "execution_count": 2,
   "metadata": {},
   "outputs": [],
   "source": [
    "import numpy as np\n",
    "import pandas as pd\n",
    "import matplotlib.pyplot as plt"
   ]
  },
  {
   "cell_type": "code",
   "execution_count": 112,
   "metadata": {},
   "outputs": [
    {
     "data": {
      "text/plain": [
       "(5656458, 6)"
      ]
     },
     "execution_count": 112,
     "metadata": {},
     "output_type": "execute_result"
    }
   ],
   "source": [
    "dane = pd.read_csv('world-development-indicators/Indicators.csv')\n",
    "dane.shape"
   ]
  },
  {
   "cell_type": "markdown",
   "metadata": {},
   "source": [
    "Mamy bardzo duży zbiór danych. "
   ]
  },
  {
   "cell_type": "markdown",
   "metadata": {},
   "source": [
    "### Co zawiera zbiór danych?"
   ]
  },
  {
   "cell_type": "code",
   "execution_count": 4,
   "metadata": {
    "scrolled": true
   },
   "outputs": [
    {
     "data": {
      "text/html": [
       "<div>\n",
       "<style>\n",
       "    .dataframe thead tr:only-child th {\n",
       "        text-align: right;\n",
       "    }\n",
       "\n",
       "    .dataframe thead th {\n",
       "        text-align: left;\n",
       "    }\n",
       "\n",
       "    .dataframe tbody tr th {\n",
       "        vertical-align: top;\n",
       "    }\n",
       "</style>\n",
       "<table border=\"1\" class=\"dataframe\">\n",
       "  <thead>\n",
       "    <tr style=\"text-align: right;\">\n",
       "      <th></th>\n",
       "      <th>CountryName</th>\n",
       "      <th>CountryCode</th>\n",
       "      <th>IndicatorName</th>\n",
       "      <th>IndicatorCode</th>\n",
       "      <th>Year</th>\n",
       "      <th>Value</th>\n",
       "    </tr>\n",
       "  </thead>\n",
       "  <tbody>\n",
       "    <tr>\n",
       "      <th>0</th>\n",
       "      <td>Arab World</td>\n",
       "      <td>ARB</td>\n",
       "      <td>Adolescent fertility rate (births per 1,000 wo...</td>\n",
       "      <td>SP.ADO.TFRT</td>\n",
       "      <td>1960</td>\n",
       "      <td>1.335609e+02</td>\n",
       "    </tr>\n",
       "    <tr>\n",
       "      <th>1</th>\n",
       "      <td>Arab World</td>\n",
       "      <td>ARB</td>\n",
       "      <td>Age dependency ratio (% of working-age populat...</td>\n",
       "      <td>SP.POP.DPND</td>\n",
       "      <td>1960</td>\n",
       "      <td>8.779760e+01</td>\n",
       "    </tr>\n",
       "    <tr>\n",
       "      <th>2</th>\n",
       "      <td>Arab World</td>\n",
       "      <td>ARB</td>\n",
       "      <td>Age dependency ratio, old (% of working-age po...</td>\n",
       "      <td>SP.POP.DPND.OL</td>\n",
       "      <td>1960</td>\n",
       "      <td>6.634579e+00</td>\n",
       "    </tr>\n",
       "    <tr>\n",
       "      <th>3</th>\n",
       "      <td>Arab World</td>\n",
       "      <td>ARB</td>\n",
       "      <td>Age dependency ratio, young (% of working-age ...</td>\n",
       "      <td>SP.POP.DPND.YG</td>\n",
       "      <td>1960</td>\n",
       "      <td>8.102333e+01</td>\n",
       "    </tr>\n",
       "    <tr>\n",
       "      <th>4</th>\n",
       "      <td>Arab World</td>\n",
       "      <td>ARB</td>\n",
       "      <td>Arms exports (SIPRI trend indicator values)</td>\n",
       "      <td>MS.MIL.XPRT.KD</td>\n",
       "      <td>1960</td>\n",
       "      <td>3.000000e+06</td>\n",
       "    </tr>\n",
       "    <tr>\n",
       "      <th>5</th>\n",
       "      <td>Arab World</td>\n",
       "      <td>ARB</td>\n",
       "      <td>Arms imports (SIPRI trend indicator values)</td>\n",
       "      <td>MS.MIL.MPRT.KD</td>\n",
       "      <td>1960</td>\n",
       "      <td>5.380000e+08</td>\n",
       "    </tr>\n",
       "    <tr>\n",
       "      <th>6</th>\n",
       "      <td>Arab World</td>\n",
       "      <td>ARB</td>\n",
       "      <td>Birth rate, crude (per 1,000 people)</td>\n",
       "      <td>SP.DYN.CBRT.IN</td>\n",
       "      <td>1960</td>\n",
       "      <td>4.769789e+01</td>\n",
       "    </tr>\n",
       "    <tr>\n",
       "      <th>7</th>\n",
       "      <td>Arab World</td>\n",
       "      <td>ARB</td>\n",
       "      <td>CO2 emissions (kt)</td>\n",
       "      <td>EN.ATM.CO2E.KT</td>\n",
       "      <td>1960</td>\n",
       "      <td>5.956399e+04</td>\n",
       "    </tr>\n",
       "    <tr>\n",
       "      <th>8</th>\n",
       "      <td>Arab World</td>\n",
       "      <td>ARB</td>\n",
       "      <td>CO2 emissions (metric tons per capita)</td>\n",
       "      <td>EN.ATM.CO2E.PC</td>\n",
       "      <td>1960</td>\n",
       "      <td>6.439635e-01</td>\n",
       "    </tr>\n",
       "    <tr>\n",
       "      <th>9</th>\n",
       "      <td>Arab World</td>\n",
       "      <td>ARB</td>\n",
       "      <td>CO2 emissions from gaseous fuel consumption (%...</td>\n",
       "      <td>EN.ATM.CO2E.GF.ZS</td>\n",
       "      <td>1960</td>\n",
       "      <td>5.041292e+00</td>\n",
       "    </tr>\n",
       "  </tbody>\n",
       "</table>\n",
       "</div>"
      ],
      "text/plain": [
       "  CountryName CountryCode                                      IndicatorName  \\\n",
       "0  Arab World         ARB  Adolescent fertility rate (births per 1,000 wo...   \n",
       "1  Arab World         ARB  Age dependency ratio (% of working-age populat...   \n",
       "2  Arab World         ARB  Age dependency ratio, old (% of working-age po...   \n",
       "3  Arab World         ARB  Age dependency ratio, young (% of working-age ...   \n",
       "4  Arab World         ARB        Arms exports (SIPRI trend indicator values)   \n",
       "5  Arab World         ARB        Arms imports (SIPRI trend indicator values)   \n",
       "6  Arab World         ARB               Birth rate, crude (per 1,000 people)   \n",
       "7  Arab World         ARB                                 CO2 emissions (kt)   \n",
       "8  Arab World         ARB             CO2 emissions (metric tons per capita)   \n",
       "9  Arab World         ARB  CO2 emissions from gaseous fuel consumption (%...   \n",
       "\n",
       "       IndicatorCode  Year         Value  \n",
       "0        SP.ADO.TFRT  1960  1.335609e+02  \n",
       "1        SP.POP.DPND  1960  8.779760e+01  \n",
       "2     SP.POP.DPND.OL  1960  6.634579e+00  \n",
       "3     SP.POP.DPND.YG  1960  8.102333e+01  \n",
       "4     MS.MIL.XPRT.KD  1960  3.000000e+06  \n",
       "5     MS.MIL.MPRT.KD  1960  5.380000e+08  \n",
       "6     SP.DYN.CBRT.IN  1960  4.769789e+01  \n",
       "7     EN.ATM.CO2E.KT  1960  5.956399e+04  \n",
       "8     EN.ATM.CO2E.PC  1960  6.439635e-01  \n",
       "9  EN.ATM.CO2E.GF.ZS  1960  5.041292e+00  "
      ]
     },
     "execution_count": 4,
     "metadata": {},
     "output_type": "execute_result"
    }
   ],
   "source": [
    "dane.head(10)"
   ]
  },
  {
   "cell_type": "markdown",
   "metadata": {},
   "source": [
    "Interesują nas kraje i wskaźniki w naszych danych."
   ]
  },
  {
   "cell_type": "markdown",
   "metadata": {},
   "source": [
    "## Polska"
   ]
  },
  {
   "cell_type": "markdown",
   "metadata": {},
   "source": [
    "### Czy wśród tych krajów znajduje się Polska?"
   ]
  },
  {
   "cell_type": "code",
   "execution_count": 5,
   "metadata": {},
   "outputs": [
    {
     "data": {
      "text/plain": [
       "247"
      ]
     },
     "execution_count": 5,
     "metadata": {},
     "output_type": "execute_result"
    }
   ],
   "source": [
    "kraje = dane['CountryName'].unique().tolist()\n",
    "len(kraje)"
   ]
  },
  {
   "cell_type": "code",
   "execution_count": 6,
   "metadata": {},
   "outputs": [
    {
     "data": {
      "text/plain": [
       "True"
      ]
     },
     "execution_count": 6,
     "metadata": {},
     "output_type": "execute_result"
    }
   ],
   "source": [
    "'Poland' in kraje"
   ]
  },
  {
   "cell_type": "markdown",
   "metadata": {},
   "source": [
    "### Ile jest wskaźników dla Polski?"
   ]
  },
  {
   "cell_type": "code",
   "execution_count": 113,
   "metadata": {},
   "outputs": [
    {
     "data": {
      "text/plain": [
       "980"
      ]
     },
     "execution_count": 113,
     "metadata": {},
     "output_type": "execute_result"
    }
   ],
   "source": [
    "dane_dla_polski = dane[dane['CountryName'].str.contains('Poland')]\n",
    "wskazniki_dla_polski = dane_dla_polski['IndicatorName'].unique().tolist()\n",
    "len(wskazniki_dla_polski)"
   ]
  },
  {
   "cell_type": "markdown",
   "metadata": {},
   "source": [
    "Usuńmy niepotrzebne kolumny."
   ]
  },
  {
   "cell_type": "code",
   "execution_count": 114,
   "metadata": {},
   "outputs": [],
   "source": [
    "del dane_dla_polski['CountryName']\n",
    "del dane_dla_polski['CountryCode']\n",
    "del dane_dla_polski['IndicatorCode']"
   ]
  },
  {
   "cell_type": "markdown",
   "metadata": {},
   "source": [
    "### Dla jakich lat mamy dane?"
   ]
  },
  {
   "cell_type": "code",
   "execution_count": 116,
   "metadata": {
    "scrolled": true
   },
   "outputs": [
    {
     "data": {
      "text/html": [
       "<div>\n",
       "<style>\n",
       "    .dataframe thead tr:only-child th {\n",
       "        text-align: right;\n",
       "    }\n",
       "\n",
       "    .dataframe thead th {\n",
       "        text-align: left;\n",
       "    }\n",
       "\n",
       "    .dataframe tbody tr th {\n",
       "        vertical-align: top;\n",
       "    }\n",
       "</style>\n",
       "<table border=\"1\" class=\"dataframe\">\n",
       "  <thead>\n",
       "    <tr style=\"text-align: right;\">\n",
       "      <th></th>\n",
       "      <th>IndicatorName</th>\n",
       "      <th>Value</th>\n",
       "    </tr>\n",
       "    <tr>\n",
       "      <th>Year</th>\n",
       "      <th></th>\n",
       "      <th></th>\n",
       "    </tr>\n",
       "  </thead>\n",
       "  <tbody>\n",
       "    <tr>\n",
       "      <th>1960</th>\n",
       "      <td>96</td>\n",
       "      <td>96</td>\n",
       "    </tr>\n",
       "    <tr>\n",
       "      <th>1961</th>\n",
       "      <td>109</td>\n",
       "      <td>109</td>\n",
       "    </tr>\n",
       "    <tr>\n",
       "      <th>1962</th>\n",
       "      <td>113</td>\n",
       "      <td>113</td>\n",
       "    </tr>\n",
       "    <tr>\n",
       "      <th>1963</th>\n",
       "      <td>116</td>\n",
       "      <td>116</td>\n",
       "    </tr>\n",
       "    <tr>\n",
       "      <th>1964</th>\n",
       "      <td>96</td>\n",
       "      <td>96</td>\n",
       "    </tr>\n",
       "    <tr>\n",
       "      <th>1965</th>\n",
       "      <td>102</td>\n",
       "      <td>102</td>\n",
       "    </tr>\n",
       "    <tr>\n",
       "      <th>1966</th>\n",
       "      <td>96</td>\n",
       "      <td>96</td>\n",
       "    </tr>\n",
       "    <tr>\n",
       "      <th>1967</th>\n",
       "      <td>100</td>\n",
       "      <td>100</td>\n",
       "    </tr>\n",
       "    <tr>\n",
       "      <th>1968</th>\n",
       "      <td>96</td>\n",
       "      <td>96</td>\n",
       "    </tr>\n",
       "    <tr>\n",
       "      <th>1969</th>\n",
       "      <td>96</td>\n",
       "      <td>96</td>\n",
       "    </tr>\n",
       "    <tr>\n",
       "      <th>1970</th>\n",
       "      <td>135</td>\n",
       "      <td>135</td>\n",
       "    </tr>\n",
       "    <tr>\n",
       "      <th>1971</th>\n",
       "      <td>147</td>\n",
       "      <td>147</td>\n",
       "    </tr>\n",
       "    <tr>\n",
       "      <th>1972</th>\n",
       "      <td>163</td>\n",
       "      <td>163</td>\n",
       "    </tr>\n",
       "    <tr>\n",
       "      <th>1973</th>\n",
       "      <td>158</td>\n",
       "      <td>158</td>\n",
       "    </tr>\n",
       "    <tr>\n",
       "      <th>1974</th>\n",
       "      <td>158</td>\n",
       "      <td>158</td>\n",
       "    </tr>\n",
       "    <tr>\n",
       "      <th>1975</th>\n",
       "      <td>154</td>\n",
       "      <td>154</td>\n",
       "    </tr>\n",
       "    <tr>\n",
       "      <th>1976</th>\n",
       "      <td>155</td>\n",
       "      <td>155</td>\n",
       "    </tr>\n",
       "    <tr>\n",
       "      <th>1977</th>\n",
       "      <td>161</td>\n",
       "      <td>161</td>\n",
       "    </tr>\n",
       "    <tr>\n",
       "      <th>1978</th>\n",
       "      <td>162</td>\n",
       "      <td>162</td>\n",
       "    </tr>\n",
       "    <tr>\n",
       "      <th>1979</th>\n",
       "      <td>159</td>\n",
       "      <td>159</td>\n",
       "    </tr>\n",
       "    <tr>\n",
       "      <th>1980</th>\n",
       "      <td>173</td>\n",
       "      <td>173</td>\n",
       "    </tr>\n",
       "    <tr>\n",
       "      <th>1981</th>\n",
       "      <td>175</td>\n",
       "      <td>175</td>\n",
       "    </tr>\n",
       "    <tr>\n",
       "      <th>1982</th>\n",
       "      <td>180</td>\n",
       "      <td>180</td>\n",
       "    </tr>\n",
       "    <tr>\n",
       "      <th>1983</th>\n",
       "      <td>174</td>\n",
       "      <td>174</td>\n",
       "    </tr>\n",
       "    <tr>\n",
       "      <th>1984</th>\n",
       "      <td>184</td>\n",
       "      <td>184</td>\n",
       "    </tr>\n",
       "    <tr>\n",
       "      <th>1985</th>\n",
       "      <td>194</td>\n",
       "      <td>194</td>\n",
       "    </tr>\n",
       "    <tr>\n",
       "      <th>1986</th>\n",
       "      <td>179</td>\n",
       "      <td>179</td>\n",
       "    </tr>\n",
       "    <tr>\n",
       "      <th>1987</th>\n",
       "      <td>206</td>\n",
       "      <td>206</td>\n",
       "    </tr>\n",
       "    <tr>\n",
       "      <th>1988</th>\n",
       "      <td>214</td>\n",
       "      <td>214</td>\n",
       "    </tr>\n",
       "    <tr>\n",
       "      <th>1989</th>\n",
       "      <td>235</td>\n",
       "      <td>235</td>\n",
       "    </tr>\n",
       "    <tr>\n",
       "      <th>1990</th>\n",
       "      <td>426</td>\n",
       "      <td>426</td>\n",
       "    </tr>\n",
       "    <tr>\n",
       "      <th>1991</th>\n",
       "      <td>453</td>\n",
       "      <td>453</td>\n",
       "    </tr>\n",
       "    <tr>\n",
       "      <th>1992</th>\n",
       "      <td>522</td>\n",
       "      <td>522</td>\n",
       "    </tr>\n",
       "    <tr>\n",
       "      <th>1993</th>\n",
       "      <td>506</td>\n",
       "      <td>506</td>\n",
       "    </tr>\n",
       "    <tr>\n",
       "      <th>1994</th>\n",
       "      <td>522</td>\n",
       "      <td>522</td>\n",
       "    </tr>\n",
       "    <tr>\n",
       "      <th>1995</th>\n",
       "      <td>569</td>\n",
       "      <td>569</td>\n",
       "    </tr>\n",
       "    <tr>\n",
       "      <th>1996</th>\n",
       "      <td>592</td>\n",
       "      <td>592</td>\n",
       "    </tr>\n",
       "    <tr>\n",
       "      <th>1997</th>\n",
       "      <td>600</td>\n",
       "      <td>600</td>\n",
       "    </tr>\n",
       "    <tr>\n",
       "      <th>1998</th>\n",
       "      <td>627</td>\n",
       "      <td>627</td>\n",
       "    </tr>\n",
       "    <tr>\n",
       "      <th>1999</th>\n",
       "      <td>634</td>\n",
       "      <td>634</td>\n",
       "    </tr>\n",
       "    <tr>\n",
       "      <th>2000</th>\n",
       "      <td>675</td>\n",
       "      <td>675</td>\n",
       "    </tr>\n",
       "    <tr>\n",
       "      <th>2001</th>\n",
       "      <td>689</td>\n",
       "      <td>689</td>\n",
       "    </tr>\n",
       "    <tr>\n",
       "      <th>2002</th>\n",
       "      <td>722</td>\n",
       "      <td>722</td>\n",
       "    </tr>\n",
       "    <tr>\n",
       "      <th>2003</th>\n",
       "      <td>721</td>\n",
       "      <td>721</td>\n",
       "    </tr>\n",
       "    <tr>\n",
       "      <th>2004</th>\n",
       "      <td>739</td>\n",
       "      <td>739</td>\n",
       "    </tr>\n",
       "    <tr>\n",
       "      <th>2005</th>\n",
       "      <td>833</td>\n",
       "      <td>833</td>\n",
       "    </tr>\n",
       "    <tr>\n",
       "      <th>2006</th>\n",
       "      <td>792</td>\n",
       "      <td>792</td>\n",
       "    </tr>\n",
       "    <tr>\n",
       "      <th>2007</th>\n",
       "      <td>807</td>\n",
       "      <td>807</td>\n",
       "    </tr>\n",
       "    <tr>\n",
       "      <th>2008</th>\n",
       "      <td>812</td>\n",
       "      <td>812</td>\n",
       "    </tr>\n",
       "    <tr>\n",
       "      <th>2009</th>\n",
       "      <td>818</td>\n",
       "      <td>818</td>\n",
       "    </tr>\n",
       "    <tr>\n",
       "      <th>2010</th>\n",
       "      <td>841</td>\n",
       "      <td>841</td>\n",
       "    </tr>\n",
       "    <tr>\n",
       "      <th>2011</th>\n",
       "      <td>786</td>\n",
       "      <td>786</td>\n",
       "    </tr>\n",
       "    <tr>\n",
       "      <th>2012</th>\n",
       "      <td>787</td>\n",
       "      <td>787</td>\n",
       "    </tr>\n",
       "    <tr>\n",
       "      <th>2013</th>\n",
       "      <td>719</td>\n",
       "      <td>719</td>\n",
       "    </tr>\n",
       "    <tr>\n",
       "      <th>2014</th>\n",
       "      <td>445</td>\n",
       "      <td>445</td>\n",
       "    </tr>\n",
       "    <tr>\n",
       "      <th>2015</th>\n",
       "      <td>54</td>\n",
       "      <td>54</td>\n",
       "    </tr>\n",
       "  </tbody>\n",
       "</table>\n",
       "</div>"
      ],
      "text/plain": [
       "      IndicatorName  Value\n",
       "Year                      \n",
       "1960             96     96\n",
       "1961            109    109\n",
       "1962            113    113\n",
       "1963            116    116\n",
       "1964             96     96\n",
       "1965            102    102\n",
       "1966             96     96\n",
       "1967            100    100\n",
       "1968             96     96\n",
       "1969             96     96\n",
       "1970            135    135\n",
       "1971            147    147\n",
       "1972            163    163\n",
       "1973            158    158\n",
       "1974            158    158\n",
       "1975            154    154\n",
       "1976            155    155\n",
       "1977            161    161\n",
       "1978            162    162\n",
       "1979            159    159\n",
       "1980            173    173\n",
       "1981            175    175\n",
       "1982            180    180\n",
       "1983            174    174\n",
       "1984            184    184\n",
       "1985            194    194\n",
       "1986            179    179\n",
       "1987            206    206\n",
       "1988            214    214\n",
       "1989            235    235\n",
       "1990            426    426\n",
       "1991            453    453\n",
       "1992            522    522\n",
       "1993            506    506\n",
       "1994            522    522\n",
       "1995            569    569\n",
       "1996            592    592\n",
       "1997            600    600\n",
       "1998            627    627\n",
       "1999            634    634\n",
       "2000            675    675\n",
       "2001            689    689\n",
       "2002            722    722\n",
       "2003            721    721\n",
       "2004            739    739\n",
       "2005            833    833\n",
       "2006            792    792\n",
       "2007            807    807\n",
       "2008            812    812\n",
       "2009            818    818\n",
       "2010            841    841\n",
       "2011            786    786\n",
       "2012            787    787\n",
       "2013            719    719\n",
       "2014            445    445\n",
       "2015             54     54"
      ]
     },
     "execution_count": 116,
     "metadata": {},
     "output_type": "execute_result"
    }
   ],
   "source": [
    "dane_dla_polski.groupby('Year').count()"
   ]
  },
  {
   "cell_type": "markdown",
   "metadata": {},
   "source": [
    "Mamy zatem dane z przedziału czasu od 1960 roku do 2015 roku. Liczba wskaźników dla poszczególnych lat jest różna. Im dalej w przeszłość tym mniej danych. Także najnowsze lata 2014-2015 okazują się mieć wiele brakujących wartości. "
   ]
  },
  {
   "cell_type": "markdown",
   "metadata": {},
   "source": [
    "### Czy w zbiorze są interesujące nas wskaźniki?"
   ]
  },
  {
   "cell_type": "code",
   "execution_count": 208,
   "metadata": {},
   "outputs": [
    {
     "data": {
      "text/plain": [
       "['Electricity production from coal sources (% of total)',\n",
       " 'Electricity production from hydroelectric sources (% of total)',\n",
       " 'Electricity production from natural gas sources (% of total)',\n",
       " 'Electricity production from nuclear sources (% of total)',\n",
       " 'Electricity production from oil sources (% of total)',\n",
       " 'Electricity production from oil, gas and coal sources (% of total)',\n",
       " 'Electricity production from renewable sources, excluding hydroelectric (% of total)',\n",
       " 'Electricity production from renewable sources, excluding hydroelectric (kWh)']"
      ]
     },
     "execution_count": 208,
     "metadata": {},
     "output_type": "execute_result"
    }
   ],
   "source": [
    "jest_produkcja_elektryczna_wpolsce = dane_dla_polski['IndicatorName'].str.contains('[Ee]lectricity production')\n",
    "\n",
    "dane_elektrycznosc = dane_dla_polski[jest_produkcja_elektryczna_wpolsce]\n",
    "wskazniki_elektrycznosc = dane_elektrycznosc['IndicatorName'].unique().tolist()\n",
    "wskazniki_elektrycznosc"
   ]
  },
  {
   "cell_type": "markdown",
   "metadata": {},
   "source": [
    "Skupmy się na obecnych czasach i weźmy dane dla aktualnego stulecia."
   ]
  },
  {
   "cell_type": "code",
   "execution_count": 198,
   "metadata": {},
   "outputs": [],
   "source": [
    "jest_powyzej_roku_2000 = dane_elektrycznosc['Year'] >= 2000\n",
    "dane_elektrycznosc_najnowsze = dane_elektrycznosc[jest_powyzej_roku_2000]"
   ]
  },
  {
   "cell_type": "markdown",
   "metadata": {},
   "source": [
    "Przkształćmy powyższe dane tak, aby można było je odpowiednia zobrazować."
   ]
  },
  {
   "cell_type": "code",
   "execution_count": 122,
   "metadata": {},
   "outputs": [
    {
     "data": {
      "text/html": [
       "<div>\n",
       "<style>\n",
       "    .dataframe thead tr:only-child th {\n",
       "        text-align: right;\n",
       "    }\n",
       "\n",
       "    .dataframe thead th {\n",
       "        text-align: left;\n",
       "    }\n",
       "\n",
       "    .dataframe tbody tr th {\n",
       "        vertical-align: top;\n",
       "    }\n",
       "</style>\n",
       "<table border=\"1\" class=\"dataframe\">\n",
       "  <thead>\n",
       "    <tr style=\"text-align: right;\">\n",
       "      <th></th>\n",
       "      <th>IndicatorName</th>\n",
       "      <th>Value</th>\n",
       "    </tr>\n",
       "    <tr>\n",
       "      <th>Year</th>\n",
       "      <th></th>\n",
       "      <th></th>\n",
       "    </tr>\n",
       "  </thead>\n",
       "  <tbody>\n",
       "    <tr>\n",
       "      <th>2000</th>\n",
       "      <td>Electricity production from coal sources (% of...</td>\n",
       "      <td>96.153631</td>\n",
       "    </tr>\n",
       "    <tr>\n",
       "      <th>2000</th>\n",
       "      <td>Electricity production from hydroelectric sour...</td>\n",
       "      <td>1.470937</td>\n",
       "    </tr>\n",
       "    <tr>\n",
       "      <th>2000</th>\n",
       "      <td>Electricity production from natural gas source...</td>\n",
       "      <td>0.648162</td>\n",
       "    </tr>\n",
       "    <tr>\n",
       "      <th>2000</th>\n",
       "      <td>Electricity production from nuclear sources (%...</td>\n",
       "      <td>0.000000</td>\n",
       "    </tr>\n",
       "    <tr>\n",
       "      <th>2000</th>\n",
       "      <td>Electricity production from oil sources (% of ...</td>\n",
       "      <td>1.338232</td>\n",
       "    </tr>\n",
       "  </tbody>\n",
       "</table>\n",
       "</div>"
      ],
      "text/plain": [
       "                                          IndicatorName      Value\n",
       "Year                                                              \n",
       "2000  Electricity production from coal sources (% of...  96.153631\n",
       "2000  Electricity production from hydroelectric sour...   1.470937\n",
       "2000  Electricity production from natural gas source...   0.648162\n",
       "2000  Electricity production from nuclear sources (%...   0.000000\n",
       "2000  Electricity production from oil sources (% of ...   1.338232"
      ]
     },
     "execution_count": 122,
     "metadata": {},
     "output_type": "execute_result"
    }
   ],
   "source": [
    "temp1 = dane_elektrycznosc_najnowsze.set_index('Year')\n",
    "temp1.head()"
   ]
  },
  {
   "cell_type": "code",
   "execution_count": 123,
   "metadata": {
    "scrolled": false
   },
   "outputs": [
    {
     "data": {
      "text/html": [
       "<div>\n",
       "<style>\n",
       "    .dataframe thead tr:only-child th {\n",
       "        text-align: right;\n",
       "    }\n",
       "\n",
       "    .dataframe thead th {\n",
       "        text-align: left;\n",
       "    }\n",
       "\n",
       "    .dataframe tbody tr th {\n",
       "        vertical-align: top;\n",
       "    }\n",
       "</style>\n",
       "<table border=\"1\" class=\"dataframe\">\n",
       "  <thead>\n",
       "    <tr style=\"text-align: right;\">\n",
       "      <th></th>\n",
       "      <th>Electricity production from coal sources (% of total)</th>\n",
       "      <th>Electricity production from hydroelectric sources (% of total)</th>\n",
       "      <th>Electricity production from natural gas sources (% of total)</th>\n",
       "      <th>Electricity production from nuclear sources (% of total)</th>\n",
       "      <th>Electricity production from oil sources (% of total)</th>\n",
       "      <th>Electricity production from oil, gas and coal sources (% of total)</th>\n",
       "      <th>Electricity production from renewable sources, excluding hydroelectric (% of total)</th>\n",
       "      <th>Electricity production from renewable sources, excluding hydroelectric (kWh)</th>\n",
       "    </tr>\n",
       "    <tr>\n",
       "      <th>Year</th>\n",
       "      <th></th>\n",
       "      <th></th>\n",
       "      <th></th>\n",
       "      <th></th>\n",
       "      <th></th>\n",
       "      <th></th>\n",
       "      <th></th>\n",
       "      <th></th>\n",
       "    </tr>\n",
       "  </thead>\n",
       "  <tbody>\n",
       "    <tr>\n",
       "      <th>2009</th>\n",
       "      <td>89.249012</td>\n",
       "      <td>1.571588</td>\n",
       "      <td>3.167660</td>\n",
       "      <td>0.0</td>\n",
       "      <td>1.801867</td>\n",
       "      <td>94.218540</td>\n",
       "      <td>4.170830</td>\n",
       "      <td>6.303000e+09</td>\n",
       "    </tr>\n",
       "    <tr>\n",
       "      <th>2010</th>\n",
       "      <td>88.130932</td>\n",
       "      <td>1.858819</td>\n",
       "      <td>3.054320</td>\n",
       "      <td>0.0</td>\n",
       "      <td>1.840995</td>\n",
       "      <td>93.026246</td>\n",
       "      <td>5.072284</td>\n",
       "      <td>7.968000e+09</td>\n",
       "    </tr>\n",
       "    <tr>\n",
       "      <th>2011</th>\n",
       "      <td>86.829167</td>\n",
       "      <td>1.429027</td>\n",
       "      <td>3.568582</td>\n",
       "      <td>0.0</td>\n",
       "      <td>1.503819</td>\n",
       "      <td>91.901568</td>\n",
       "      <td>6.624652</td>\n",
       "      <td>1.080600e+10</td>\n",
       "    </tr>\n",
       "    <tr>\n",
       "      <th>2012</th>\n",
       "      <td>84.388199</td>\n",
       "      <td>1.259655</td>\n",
       "      <td>3.871103</td>\n",
       "      <td>0.0</td>\n",
       "      <td>1.264602</td>\n",
       "      <td>89.523904</td>\n",
       "      <td>9.178102</td>\n",
       "      <td>1.484200e+10</td>\n",
       "    </tr>\n",
       "    <tr>\n",
       "      <th>2013</th>\n",
       "      <td>85.323010</td>\n",
       "      <td>1.488139</td>\n",
       "      <td>3.126373</td>\n",
       "      <td>0.0</td>\n",
       "      <td>1.092766</td>\n",
       "      <td>89.542149</td>\n",
       "      <td>8.934324</td>\n",
       "      <td>1.464300e+10</td>\n",
       "    </tr>\n",
       "  </tbody>\n",
       "</table>\n",
       "</div>"
      ],
      "text/plain": [
       "      Electricity production from coal sources (% of total)  \\\n",
       "Year                                                          \n",
       "2009                                          89.249012       \n",
       "2010                                          88.130932       \n",
       "2011                                          86.829167       \n",
       "2012                                          84.388199       \n",
       "2013                                          85.323010       \n",
       "\n",
       "      Electricity production from hydroelectric sources (% of total)  \\\n",
       "Year                                                                   \n",
       "2009                                           1.571588                \n",
       "2010                                           1.858819                \n",
       "2011                                           1.429027                \n",
       "2012                                           1.259655                \n",
       "2013                                           1.488139                \n",
       "\n",
       "      Electricity production from natural gas sources (% of total)  \\\n",
       "Year                                                                 \n",
       "2009                                           3.167660              \n",
       "2010                                           3.054320              \n",
       "2011                                           3.568582              \n",
       "2012                                           3.871103              \n",
       "2013                                           3.126373              \n",
       "\n",
       "      Electricity production from nuclear sources (% of total)  \\\n",
       "Year                                                             \n",
       "2009                                                0.0          \n",
       "2010                                                0.0          \n",
       "2011                                                0.0          \n",
       "2012                                                0.0          \n",
       "2013                                                0.0          \n",
       "\n",
       "      Electricity production from oil sources (% of total)  \\\n",
       "Year                                                         \n",
       "2009                                           1.801867      \n",
       "2010                                           1.840995      \n",
       "2011                                           1.503819      \n",
       "2012                                           1.264602      \n",
       "2013                                           1.092766      \n",
       "\n",
       "      Electricity production from oil, gas and coal sources (% of total)  \\\n",
       "Year                                                                       \n",
       "2009                                          94.218540                    \n",
       "2010                                          93.026246                    \n",
       "2011                                          91.901568                    \n",
       "2012                                          89.523904                    \n",
       "2013                                          89.542149                    \n",
       "\n",
       "      Electricity production from renewable sources, excluding hydroelectric (% of total)  \\\n",
       "Year                                                                                        \n",
       "2009                                           4.170830                                     \n",
       "2010                                           5.072284                                     \n",
       "2011                                           6.624652                                     \n",
       "2012                                           9.178102                                     \n",
       "2013                                           8.934324                                     \n",
       "\n",
       "      Electricity production from renewable sources, excluding hydroelectric (kWh)  \n",
       "Year                                                                                \n",
       "2009                                       6.303000e+09                             \n",
       "2010                                       7.968000e+09                             \n",
       "2011                                       1.080600e+10                             \n",
       "2012                                       1.484200e+10                             \n",
       "2013                                       1.464300e+10                             "
      ]
     },
     "execution_count": 123,
     "metadata": {},
     "output_type": "execute_result"
    }
   ],
   "source": [
    "temp2 = temp1.groupby('IndicatorName')\n",
    "dane_koncowe = pd.DataFrame()\n",
    "for name, group in temp2:\n",
    "    dane_koncowe[name] = group['Value']\n",
    "dane_koncowe.tail()"
   ]
  },
  {
   "cell_type": "markdown",
   "metadata": {},
   "source": [
    "### Czy nasze dane są odpowiedniej jakości?"
   ]
  },
  {
   "cell_type": "code",
   "execution_count": 124,
   "metadata": {},
   "outputs": [
    {
     "data": {
      "text/html": [
       "<div>\n",
       "<style>\n",
       "    .dataframe thead tr:only-child th {\n",
       "        text-align: right;\n",
       "    }\n",
       "\n",
       "    .dataframe thead th {\n",
       "        text-align: left;\n",
       "    }\n",
       "\n",
       "    .dataframe tbody tr th {\n",
       "        vertical-align: top;\n",
       "    }\n",
       "</style>\n",
       "<table border=\"1\" class=\"dataframe\">\n",
       "  <thead>\n",
       "    <tr style=\"text-align: right;\">\n",
       "      <th></th>\n",
       "      <th>Electricity production from coal sources (% of total)</th>\n",
       "      <th>Electricity production from hydroelectric sources (% of total)</th>\n",
       "      <th>Electricity production from natural gas sources (% of total)</th>\n",
       "      <th>Electricity production from nuclear sources (% of total)</th>\n",
       "      <th>Electricity production from oil sources (% of total)</th>\n",
       "      <th>Electricity production from oil, gas and coal sources (% of total)</th>\n",
       "      <th>Electricity production from renewable sources, excluding hydroelectric (% of total)</th>\n",
       "      <th>Electricity production from renewable sources, excluding hydroelectric (kWh)</th>\n",
       "    </tr>\n",
       "  </thead>\n",
       "  <tbody>\n",
       "    <tr>\n",
       "      <th>count</th>\n",
       "      <td>14.000000</td>\n",
       "      <td>14.000000</td>\n",
       "      <td>14.000000</td>\n",
       "      <td>14.0</td>\n",
       "      <td>14.000000</td>\n",
       "      <td>14.000000</td>\n",
       "      <td>14.000000</td>\n",
       "      <td>1.400000e+01</td>\n",
       "    </tr>\n",
       "    <tr>\n",
       "      <th>mean</th>\n",
       "      <td>91.175458</td>\n",
       "      <td>1.452378</td>\n",
       "      <td>2.547496</td>\n",
       "      <td>0.0</td>\n",
       "      <td>1.611769</td>\n",
       "      <td>95.334723</td>\n",
       "      <td>3.079490</td>\n",
       "      <td>4.909571e+09</td>\n",
       "    </tr>\n",
       "    <tr>\n",
       "      <th>std</th>\n",
       "      <td>3.837581</td>\n",
       "      <td>0.181646</td>\n",
       "      <td>1.003595</td>\n",
       "      <td>0.0</td>\n",
       "      <td>0.229233</td>\n",
       "      <td>3.153109</td>\n",
       "      <td>3.213562</td>\n",
       "      <td>5.234083e+09</td>\n",
       "    </tr>\n",
       "    <tr>\n",
       "      <th>min</th>\n",
       "      <td>84.388199</td>\n",
       "      <td>1.113933</td>\n",
       "      <td>0.648162</td>\n",
       "      <td>0.0</td>\n",
       "      <td>1.092766</td>\n",
       "      <td>89.523904</td>\n",
       "      <td>0.157850</td>\n",
       "      <td>2.260000e+08</td>\n",
       "    </tr>\n",
       "    <tr>\n",
       "      <th>25%</th>\n",
       "      <td>88.410452</td>\n",
       "      <td>1.371346</td>\n",
       "      <td>1.727668</td>\n",
       "      <td>0.0</td>\n",
       "      <td>1.537173</td>\n",
       "      <td>93.324320</td>\n",
       "      <td>0.452216</td>\n",
       "      <td>6.825000e+08</td>\n",
       "    </tr>\n",
       "    <tr>\n",
       "      <th>50%</th>\n",
       "      <td>92.044874</td>\n",
       "      <td>1.449982</td>\n",
       "      <td>2.941920</td>\n",
       "      <td>0.0</td>\n",
       "      <td>1.667945</td>\n",
       "      <td>96.808852</td>\n",
       "      <td>1.668854</td>\n",
       "      <td>2.663500e+09</td>\n",
       "    </tr>\n",
       "    <tr>\n",
       "      <th>75%</th>\n",
       "      <td>94.407973</td>\n",
       "      <td>1.550726</td>\n",
       "      <td>3.157338</td>\n",
       "      <td>0.0</td>\n",
       "      <td>1.771451</td>\n",
       "      <td>97.759113</td>\n",
       "      <td>4.846920</td>\n",
       "      <td>7.551750e+09</td>\n",
       "    </tr>\n",
       "    <tr>\n",
       "      <th>max</th>\n",
       "      <td>96.153631</td>\n",
       "      <td>1.858819</td>\n",
       "      <td>3.871103</td>\n",
       "      <td>0.0</td>\n",
       "      <td>1.840995</td>\n",
       "      <td>98.309435</td>\n",
       "      <td>9.178102</td>\n",
       "      <td>1.484200e+10</td>\n",
       "    </tr>\n",
       "  </tbody>\n",
       "</table>\n",
       "</div>"
      ],
      "text/plain": [
       "       Electricity production from coal sources (% of total)  \\\n",
       "count                                          14.000000       \n",
       "mean                                           91.175458       \n",
       "std                                             3.837581       \n",
       "min                                            84.388199       \n",
       "25%                                            88.410452       \n",
       "50%                                            92.044874       \n",
       "75%                                            94.407973       \n",
       "max                                            96.153631       \n",
       "\n",
       "       Electricity production from hydroelectric sources (% of total)  \\\n",
       "count                                          14.000000                \n",
       "mean                                            1.452378                \n",
       "std                                             0.181646                \n",
       "min                                             1.113933                \n",
       "25%                                             1.371346                \n",
       "50%                                             1.449982                \n",
       "75%                                             1.550726                \n",
       "max                                             1.858819                \n",
       "\n",
       "       Electricity production from natural gas sources (% of total)  \\\n",
       "count                                          14.000000              \n",
       "mean                                            2.547496              \n",
       "std                                             1.003595              \n",
       "min                                             0.648162              \n",
       "25%                                             1.727668              \n",
       "50%                                             2.941920              \n",
       "75%                                             3.157338              \n",
       "max                                             3.871103              \n",
       "\n",
       "       Electricity production from nuclear sources (% of total)  \\\n",
       "count                                               14.0          \n",
       "mean                                                 0.0          \n",
       "std                                                  0.0          \n",
       "min                                                  0.0          \n",
       "25%                                                  0.0          \n",
       "50%                                                  0.0          \n",
       "75%                                                  0.0          \n",
       "max                                                  0.0          \n",
       "\n",
       "       Electricity production from oil sources (% of total)  \\\n",
       "count                                          14.000000      \n",
       "mean                                            1.611769      \n",
       "std                                             0.229233      \n",
       "min                                             1.092766      \n",
       "25%                                             1.537173      \n",
       "50%                                             1.667945      \n",
       "75%                                             1.771451      \n",
       "max                                             1.840995      \n",
       "\n",
       "       Electricity production from oil, gas and coal sources (% of total)  \\\n",
       "count                                          14.000000                    \n",
       "mean                                           95.334723                    \n",
       "std                                             3.153109                    \n",
       "min                                            89.523904                    \n",
       "25%                                            93.324320                    \n",
       "50%                                            96.808852                    \n",
       "75%                                            97.759113                    \n",
       "max                                            98.309435                    \n",
       "\n",
       "       Electricity production from renewable sources, excluding hydroelectric (% of total)  \\\n",
       "count                                          14.000000                                     \n",
       "mean                                            3.079490                                     \n",
       "std                                             3.213562                                     \n",
       "min                                             0.157850                                     \n",
       "25%                                             0.452216                                     \n",
       "50%                                             1.668854                                     \n",
       "75%                                             4.846920                                     \n",
       "max                                             9.178102                                     \n",
       "\n",
       "       Electricity production from renewable sources, excluding hydroelectric (kWh)  \n",
       "count                                       1.400000e+01                             \n",
       "mean                                        4.909571e+09                             \n",
       "std                                         5.234083e+09                             \n",
       "min                                         2.260000e+08                             \n",
       "25%                                         6.825000e+08                             \n",
       "50%                                         2.663500e+09                             \n",
       "75%                                         7.551750e+09                             \n",
       "max                                         1.484200e+10                             "
      ]
     },
     "execution_count": 124,
     "metadata": {},
     "output_type": "execute_result"
    }
   ],
   "source": [
    "dane_koncowe.describe()"
   ]
  },
  {
   "cell_type": "code",
   "execution_count": 125,
   "metadata": {},
   "outputs": [
    {
     "data": {
      "text/plain": [
       "Electricity production from coal sources (% of total)                                  False\n",
       "Electricity production from hydroelectric sources (% of total)                         False\n",
       "Electricity production from natural gas sources (% of total)                           False\n",
       "Electricity production from nuclear sources (% of total)                               False\n",
       "Electricity production from oil sources (% of total)                                   False\n",
       "Electricity production from oil, gas and coal sources (% of total)                     False\n",
       "Electricity production from renewable sources, excluding hydroelectric (% of total)    False\n",
       "Electricity production from renewable sources, excluding hydroelectric (kWh)           False\n",
       "dtype: bool"
      ]
     },
     "execution_count": 125,
     "metadata": {},
     "output_type": "execute_result"
    }
   ],
   "source": [
    "dane_koncowe.isnull().any()"
   ]
  },
  {
   "cell_type": "markdown",
   "metadata": {},
   "source": [
    "## Świat"
   ]
  },
  {
   "cell_type": "markdown",
   "metadata": {},
   "source": [
    "### Jakie są dane dla innych krajów?"
   ]
  },
  {
   "cell_type": "markdown",
   "metadata": {},
   "source": [
    "Postępujemy analogicznie jak wcześniej."
   ]
  },
  {
   "cell_type": "code",
   "execution_count": 234,
   "metadata": {
    "scrolled": true
   },
   "outputs": [
    {
     "data": {
      "text/html": [
       "<div>\n",
       "<style>\n",
       "    .dataframe thead tr:only-child th {\n",
       "        text-align: right;\n",
       "    }\n",
       "\n",
       "    .dataframe thead th {\n",
       "        text-align: left;\n",
       "    }\n",
       "\n",
       "    .dataframe tbody tr th {\n",
       "        vertical-align: top;\n",
       "    }\n",
       "</style>\n",
       "<table border=\"1\" class=\"dataframe\">\n",
       "  <thead>\n",
       "    <tr style=\"text-align: right;\">\n",
       "      <th></th>\n",
       "      <th>CountryName</th>\n",
       "      <th>CountryCode</th>\n",
       "      <th>IndicatorName</th>\n",
       "      <th>IndicatorCode</th>\n",
       "      <th>Year</th>\n",
       "      <th>Value</th>\n",
       "    </tr>\n",
       "  </thead>\n",
       "  <tbody>\n",
       "    <tr>\n",
       "      <th>498</th>\n",
       "      <td>Euro area</td>\n",
       "      <td>EMU</td>\n",
       "      <td>Electricity production from hydroelectric sour...</td>\n",
       "      <td>EG.ELC.HYRO.ZS</td>\n",
       "      <td>1960</td>\n",
       "      <td>38.725424</td>\n",
       "    </tr>\n",
       "    <tr>\n",
       "      <th>503</th>\n",
       "      <td>Euro area</td>\n",
       "      <td>EMU</td>\n",
       "      <td>Electricity production from renewable sources,...</td>\n",
       "      <td>EG.ELC.RNWX.ZS</td>\n",
       "      <td>1960</td>\n",
       "      <td>0.615391</td>\n",
       "    </tr>\n",
       "    <tr>\n",
       "      <th>816</th>\n",
       "      <td>European Union</td>\n",
       "      <td>EUU</td>\n",
       "      <td>Electricity production from hydroelectric sour...</td>\n",
       "      <td>EG.ELC.HYRO.ZS</td>\n",
       "      <td>1960</td>\n",
       "      <td>27.771823</td>\n",
       "    </tr>\n",
       "    <tr>\n",
       "      <th>821</th>\n",
       "      <td>European Union</td>\n",
       "      <td>EUU</td>\n",
       "      <td>Electricity production from renewable sources,...</td>\n",
       "      <td>EG.ELC.RNWX.ZS</td>\n",
       "      <td>1960</td>\n",
       "      <td>0.352812</td>\n",
       "    </tr>\n",
       "    <tr>\n",
       "      <th>1108</th>\n",
       "      <td>High income</td>\n",
       "      <td>HIC</td>\n",
       "      <td>Electricity production from hydroelectric sour...</td>\n",
       "      <td>EG.ELC.HYRO.ZS</td>\n",
       "      <td>1960</td>\n",
       "      <td>27.405353</td>\n",
       "    </tr>\n",
       "  </tbody>\n",
       "</table>\n",
       "</div>"
      ],
      "text/plain": [
       "         CountryName CountryCode  \\\n",
       "498        Euro area         EMU   \n",
       "503        Euro area         EMU   \n",
       "816   European Union         EUU   \n",
       "821   European Union         EUU   \n",
       "1108     High income         HIC   \n",
       "\n",
       "                                          IndicatorName   IndicatorCode  Year  \\\n",
       "498   Electricity production from hydroelectric sour...  EG.ELC.HYRO.ZS  1960   \n",
       "503   Electricity production from renewable sources,...  EG.ELC.RNWX.ZS  1960   \n",
       "816   Electricity production from hydroelectric sour...  EG.ELC.HYRO.ZS  1960   \n",
       "821   Electricity production from renewable sources,...  EG.ELC.RNWX.ZS  1960   \n",
       "1108  Electricity production from hydroelectric sour...  EG.ELC.HYRO.ZS  1960   \n",
       "\n",
       "          Value  \n",
       "498   38.725424  \n",
       "503    0.615391  \n",
       "816   27.771823  \n",
       "821    0.352812  \n",
       "1108  27.405353  "
      ]
     },
     "execution_count": 234,
     "metadata": {},
     "output_type": "execute_result"
    }
   ],
   "source": [
    "zrodla_odnawialne_na_swiecie = dane['IndicatorName'].str.contains('[Ee]lectricity production.*hydro.*%')\n",
    "\n",
    "dane_swiat = dane[zrodla_odnawialne_na_swiecie]\n",
    "dane_swiat.head()"
   ]
  },
  {
   "cell_type": "code",
   "execution_count": 301,
   "metadata": {},
   "outputs": [],
   "source": [
    "jest_ponad_2010 = dane_swiat['Year'] >= 2010\n",
    "dane_swiat_najnowsze = dane_swiat[jest_ponad_2010]"
   ]
  },
  {
   "cell_type": "code",
   "execution_count": 302,
   "metadata": {},
   "outputs": [],
   "source": [
    "del dane_swiat_najnowsze['CountryCode']\n",
    "del dane_swiat_najnowsze['IndicatorCode']"
   ]
  },
  {
   "cell_type": "markdown",
   "metadata": {},
   "source": [
    "### Jaki mamy zestaw wskaźników?"
   ]
  },
  {
   "cell_type": "code",
   "execution_count": 303,
   "metadata": {},
   "outputs": [
    {
     "data": {
      "text/plain": [
       "['Electricity production from hydroelectric sources (% of total)',\n",
       " 'Electricity production from renewable sources, excluding hydroelectric (% of total)']"
      ]
     },
     "execution_count": 303,
     "metadata": {},
     "output_type": "execute_result"
    }
   ],
   "source": [
    "wskazniki_odnawialne = dane_swiat['IndicatorName'].unique().tolist()\n",
    "wskazniki_odnawialne"
   ]
  },
  {
   "cell_type": "markdown",
   "metadata": {},
   "source": [
    "### Jaki procent energii elektrycznej jest wytwarzany z odnawialnych źródeł energii?"
   ]
  },
  {
   "cell_type": "code",
   "execution_count": 304,
   "metadata": {},
   "outputs": [
    {
     "data": {
      "text/html": [
       "<div>\n",
       "<style>\n",
       "    .dataframe thead tr:only-child th {\n",
       "        text-align: right;\n",
       "    }\n",
       "\n",
       "    .dataframe thead th {\n",
       "        text-align: left;\n",
       "    }\n",
       "\n",
       "    .dataframe tbody tr th {\n",
       "        vertical-align: top;\n",
       "    }\n",
       "</style>\n",
       "<table border=\"1\" class=\"dataframe\">\n",
       "  <thead>\n",
       "    <tr style=\"text-align: right;\">\n",
       "      <th></th>\n",
       "      <th>CountryName</th>\n",
       "      <th>IndicatorName</th>\n",
       "      <th>Year</th>\n",
       "      <th>Value</th>\n",
       "    </tr>\n",
       "  </thead>\n",
       "  <tbody>\n",
       "    <tr>\n",
       "      <th>5522658</th>\n",
       "      <td>Turkey</td>\n",
       "      <td>Electricity production from renewable sources,...</td>\n",
       "      <td>2013</td>\n",
       "      <td>3.998225</td>\n",
       "    </tr>\n",
       "    <tr>\n",
       "      <th>5526706</th>\n",
       "      <td>United Kingdom</td>\n",
       "      <td>Electricity production from hydroelectric sour...</td>\n",
       "      <td>2013</td>\n",
       "      <td>1.334573</td>\n",
       "    </tr>\n",
       "    <tr>\n",
       "      <th>5526711</th>\n",
       "      <td>United Kingdom</td>\n",
       "      <td>Electricity production from renewable sources,...</td>\n",
       "      <td>2013</td>\n",
       "      <td>13.595065</td>\n",
       "    </tr>\n",
       "    <tr>\n",
       "      <th>5527360</th>\n",
       "      <td>United States</td>\n",
       "      <td>Electricity production from hydroelectric sour...</td>\n",
       "      <td>2013</td>\n",
       "      <td>6.348186</td>\n",
       "    </tr>\n",
       "    <tr>\n",
       "      <th>5527365</th>\n",
       "      <td>United States</td>\n",
       "      <td>Electricity production from renewable sources,...</td>\n",
       "      <td>2013</td>\n",
       "      <td>6.177054</td>\n",
       "    </tr>\n",
       "  </tbody>\n",
       "</table>\n",
       "</div>"
      ],
      "text/plain": [
       "            CountryName                                      IndicatorName  \\\n",
       "5522658          Turkey  Electricity production from renewable sources,...   \n",
       "5526706  United Kingdom  Electricity production from hydroelectric sour...   \n",
       "5526711  United Kingdom  Electricity production from renewable sources,...   \n",
       "5527360   United States  Electricity production from hydroelectric sour...   \n",
       "5527365   United States  Electricity production from renewable sources,...   \n",
       "\n",
       "         Year      Value  \n",
       "5522658  2013   3.998225  \n",
       "5526706  2013   1.334573  \n",
       "5526711  2013  13.595065  \n",
       "5527360  2013   6.348186  \n",
       "5527365  2013   6.177054  "
      ]
     },
     "execution_count": 304,
     "metadata": {},
     "output_type": "execute_result"
    }
   ],
   "source": [
    "dane_swiat_najnowsze.tail()"
   ]
  },
  {
   "cell_type": "code",
   "execution_count": 306,
   "metadata": {},
   "outputs": [
    {
     "data": {
      "text/html": [
       "<div>\n",
       "<style>\n",
       "    .dataframe thead tr:only-child th {\n",
       "        text-align: right;\n",
       "    }\n",
       "\n",
       "    .dataframe thead th {\n",
       "        text-align: left;\n",
       "    }\n",
       "\n",
       "    .dataframe tbody tr th {\n",
       "        vertical-align: top;\n",
       "    }\n",
       "</style>\n",
       "<table border=\"1\" class=\"dataframe\">\n",
       "  <thead>\n",
       "    <tr style=\"text-align: right;\">\n",
       "      <th></th>\n",
       "      <th>CountryName</th>\n",
       "    </tr>\n",
       "    <tr>\n",
       "      <th>Year</th>\n",
       "      <th></th>\n",
       "    </tr>\n",
       "  </thead>\n",
       "  <tbody>\n",
       "    <tr>\n",
       "      <th>2010</th>\n",
       "      <td>332</td>\n",
       "    </tr>\n",
       "    <tr>\n",
       "      <th>2011</th>\n",
       "      <td>332</td>\n",
       "    </tr>\n",
       "    <tr>\n",
       "      <th>2012</th>\n",
       "      <td>332</td>\n",
       "    </tr>\n",
       "    <tr>\n",
       "      <th>2013</th>\n",
       "      <td>68</td>\n",
       "    </tr>\n",
       "  </tbody>\n",
       "</table>\n",
       "</div>"
      ],
      "text/plain": [
       "      CountryName\n",
       "Year             \n",
       "2010          332\n",
       "2011          332\n",
       "2012          332\n",
       "2013           68"
      ]
     },
     "execution_count": 306,
     "metadata": {},
     "output_type": "execute_result"
    }
   ],
   "source": [
    "dane_swiat_najnowsze[['CountryName', 'Year']].groupby('Year').count()"
   ]
  },
  {
   "cell_type": "markdown",
   "metadata": {},
   "source": [
    "Jak widać dla roku 2013 wielu krajom brakuje wartości. Weźmy zatem dane dla roku 2012."
   ]
  },
  {
   "cell_type": "code",
   "execution_count": 311,
   "metadata": {},
   "outputs": [
    {
     "data": {
      "text/html": [
       "<div>\n",
       "<style>\n",
       "    .dataframe thead tr:only-child th {\n",
       "        text-align: right;\n",
       "    }\n",
       "\n",
       "    .dataframe thead th {\n",
       "        text-align: left;\n",
       "    }\n",
       "\n",
       "    .dataframe tbody tr th {\n",
       "        vertical-align: top;\n",
       "    }\n",
       "</style>\n",
       "<table border=\"1\" class=\"dataframe\">\n",
       "  <thead>\n",
       "    <tr style=\"text-align: right;\">\n",
       "      <th></th>\n",
       "      <th>CountryName</th>\n",
       "      <th>IndicatorName</th>\n",
       "      <th>Value</th>\n",
       "    </tr>\n",
       "  </thead>\n",
       "  <tbody>\n",
       "    <tr>\n",
       "      <th>5202389</th>\n",
       "      <td>Arab World</td>\n",
       "      <td>Electricity production from hydroelectric sour...</td>\n",
       "      <td>3.305623</td>\n",
       "    </tr>\n",
       "    <tr>\n",
       "      <th>5202394</th>\n",
       "      <td>Arab World</td>\n",
       "      <td>Electricity production from renewable sources,...</td>\n",
       "      <td>0.251099</td>\n",
       "    </tr>\n",
       "    <tr>\n",
       "      <th>5203362</th>\n",
       "      <td>Central Europe and the Baltics</td>\n",
       "      <td>Electricity production from hydroelectric sour...</td>\n",
       "      <td>7.837370</td>\n",
       "    </tr>\n",
       "    <tr>\n",
       "      <th>5203367</th>\n",
       "      <td>Central Europe and the Baltics</td>\n",
       "      <td>Electricity production from renewable sources,...</td>\n",
       "      <td>7.089450</td>\n",
       "    </tr>\n",
       "    <tr>\n",
       "      <th>5203957</th>\n",
       "      <td>East Asia &amp; Pacific (all income levels)</td>\n",
       "      <td>Electricity production from hydroelectric sour...</td>\n",
       "      <td>13.878517</td>\n",
       "    </tr>\n",
       "  </tbody>\n",
       "</table>\n",
       "</div>"
      ],
      "text/plain": [
       "                                     CountryName  \\\n",
       "5202389                               Arab World   \n",
       "5202394                               Arab World   \n",
       "5203362           Central Europe and the Baltics   \n",
       "5203367           Central Europe and the Baltics   \n",
       "5203957  East Asia & Pacific (all income levels)   \n",
       "\n",
       "                                             IndicatorName      Value  \n",
       "5202389  Electricity production from hydroelectric sour...   3.305623  \n",
       "5202394  Electricity production from renewable sources,...   0.251099  \n",
       "5203362  Electricity production from hydroelectric sour...   7.837370  \n",
       "5203367  Electricity production from renewable sources,...   7.089450  \n",
       "5203957  Electricity production from hydroelectric sour...  13.878517  "
      ]
     },
     "execution_count": 311,
     "metadata": {},
     "output_type": "execute_result"
    }
   ],
   "source": [
    "jest_rok_2012 = dane_swiat_najnowsze['Year'] == 2012\n",
    "\n",
    "dane_swiat_2012 = dane_swiat_najnowsze[jest_rok_2012]\n",
    "del dane_swiat_2012['Year']\n",
    "\n",
    "dane_swiat_2012.head()"
   ]
  },
  {
   "cell_type": "code",
   "execution_count": 321,
   "metadata": {},
   "outputs": [
    {
     "data": {
      "text/plain": [
       "CountryName      False\n",
       "IndicatorName    False\n",
       "Value            False\n",
       "dtype: bool"
      ]
     },
     "execution_count": 321,
     "metadata": {},
     "output_type": "execute_result"
    }
   ],
   "source": [
    "dane_swiat_2012.isnull().any()"
   ]
  },
  {
   "cell_type": "code",
   "execution_count": 322,
   "metadata": {},
   "outputs": [],
   "source": [
    "temp4 = dane_swiat_2012.groupby('CountryName')"
   ]
  },
  {
   "cell_type": "code",
   "execution_count": 369,
   "metadata": {
    "scrolled": true
   },
   "outputs": [],
   "source": [
    "d = dict()\n",
    "for kraj, grupa in temp4:\n",
    "    d[kraj] = grupa['Value'].sum()"
   ]
  },
  {
   "cell_type": "code",
   "execution_count": 370,
   "metadata": {},
   "outputs": [
    {
     "name": "stdout",
     "output_type": "stream",
     "text": [
      "Ilość krajów:  139\n",
      "dict_keys(['Portugal', 'Panama', 'World', 'Belarus', 'Kosovo', 'Albania', 'Algeria', 'Peru', 'Serbia', 'Cameroon', 'Sweden', 'Guatemala', 'Uzbekistan', 'Jordan', 'Arab World', 'Tajikistan', 'Kenya', 'Australia', 'Brunei Darussalam', 'Gabon', 'Honduras', 'Finland', 'Pakistan', 'France', 'Iran, Islamic Rep.', 'Egypt, Arab Rep.', 'Georgia', 'Israel', 'Singapore', 'Nepal', 'Mozambique', 'Cyprus', 'Philippines', 'Colombia', 'Kazakhstan', 'Nigeria', 'Cuba', \"Cote d'Ivoire\", 'New Zealand', 'Benin', 'Ireland', 'United Arab Emirates', 'Belgium', 'Croatia', 'Korea, Dem. Rep.', 'Congo, Rep.', 'Bangladesh', 'Estonia', 'Germany', 'Kyrgyz Republic', 'Dominican Republic', 'Hungary', 'Slovenia', 'El Salvador', 'Luxembourg', 'Botswana', 'Macedonia, FYR', 'Senegal', 'Morocco', 'Moldova', 'Uruguay', 'Saudi Arabia', 'Nicaragua', 'Montenegro', 'Czech Republic', 'Chile', 'Congo, Dem. Rep.', 'Ghana', 'Korea, Rep.', 'Switzerland', 'Mauritius', 'Venezuela, RB', 'United States', 'Myanmar', 'Spain', 'Bosnia and Herzegovina', 'Kuwait', 'Eritrea', 'Hong Kong SAR, China', 'Armenia', 'Mexico', 'Syrian Arab Republic', 'Cambodia', 'Bulgaria', 'Austria', 'South Asia', 'Mongolia', 'Italy', 'Angola', 'Tunisia', 'Vietnam', 'Qatar', 'Lithuania', 'Yemen, Rep.', 'Indonesia', 'Ukraine', 'Norway', 'Iceland', 'China', 'Tanzania', 'Canada', 'Turkmenistan', 'Iraq', 'Zambia', 'United Kingdom', 'Sri Lanka', 'Japan', 'Trinidad and Tobago', 'Turkey', 'Ethiopia', 'Romania', 'Malaysia', 'Russian Federation', 'Paraguay', 'Haiti', 'Greece', 'Ecuador', 'Zimbabwe', 'Thailand', 'Libya', 'Poland', 'Slovak Republic', 'Sudan', 'Bolivia', 'Netherlands', 'Latvia', 'India', 'Togo', 'Denmark', 'Oman', 'Jamaica', 'Argentina', 'Costa Rica', 'Azerbaijan', 'Bahrain', 'Brazil', 'Namibia', 'Malta', 'Lebanon'])\n"
     ]
    }
   ],
   "source": [
    "del d['OECD members']\n",
    "del d['Sub-Saharan Africa (all income levels)']\n",
    "del d['Fragile and conflict affected situations']\n",
    "del d['Sub-Saharan Africa (developing only)']\n",
    "del d['Middle East & North Africa (all income levels)']\n",
    "del d['Euro area']\n",
    "del d['South Africa']\n",
    "del d['Least developed countries: UN classification']\n",
    "del d['Latin America & Caribbean (developing only)']\n",
    "del d['Latin America & Caribbean (all income levels)']\n",
    "del d['High income: OECD']\n",
    "del d['Upper middle income']\n",
    "del d['High income']\n",
    "del d['Middle income']\n",
    "del d['East Asia & Pacific (developing only)']\n",
    "del d['East Asia & Pacific (all income levels)']\n",
    "del d['European Union']\n",
    "del d['Middle East & North Africa (developing only)']\n",
    "del d['Other small states']\n",
    "del d['Central Europe and the Baltics']\n",
    "del d['Europe & Central Asia (all income levels)']\n",
    "del d['Low & middle income']\n",
    "del d['North America']\n",
    "del d['Lower middle income']\n",
    "del d['High income: nonOECD']\n",
    "del d['Europe & Central Asia (developing only)']\n",
    "del d['Heavily indebted poor countries (HIPC)']\n",
    "\n",
    "print('Ilość krajów: ',len(d))\n",
    "print(d.keys())"
   ]
  },
  {
   "cell_type": "markdown",
   "metadata": {},
   "source": [
    "Mamy dane dla 139 krajów."
   ]
  },
  {
   "cell_type": "code",
   "execution_count": 385,
   "metadata": {
    "scrolled": true
   },
   "outputs": [
    {
     "data": {
      "text/plain": [
       "Albania                   100.000000\n",
       "Algeria                     1.083680\n",
       "Angola                     70.906823\n",
       "Arab World                  3.556722\n",
       "Argentina                  23.769069\n",
       "Armenia                    28.944749\n",
       "Australia                   9.632600\n",
       "Austria                    74.544925\n",
       "Azerbaijan                  7.921524\n",
       "Bahrain                     0.000000\n",
       "Bangladesh                  1.584453\n",
       "Belarus                     0.555213\n",
       "Belgium                    12.788465\n",
       "Benin                       0.613497\n",
       "Bolivia                    33.755384\n",
       "Bosnia and Herzegovina     29.931828\n",
       "Botswana                    0.000000\n",
       "Brazil                     82.471415\n",
       "Brunei Darussalam           0.050891\n",
       "Bulgaria                   11.436484\n",
       "Cambodia                   37.656904\n",
       "Cameroon                   73.040305\n",
       "Canada                     63.248457\n",
       "Chile                      36.445356\n",
       "China                      20.041117\n",
       "Colombia                   79.551470\n",
       "Congo, Dem. Rep.           99.560633\n",
       "Congo, Rep.                61.177347\n",
       "Costa Rica                 91.842752\n",
       "Cote d'Ivoire              26.439567\n",
       "                             ...    \n",
       "Singapore                   1.359877\n",
       "Slovak Republic            19.323637\n",
       "Slovenia                   27.810308\n",
       "South Asia                 16.470308\n",
       "Spain                      29.584748\n",
       "Sri Lanka                  29.241240\n",
       "Sudan                      70.146248\n",
       "Sweden                     59.067750\n",
       "Switzerland                59.478294\n",
       "Syrian Arab Republic       10.378992\n",
       "Tajikistan                 99.564039\n",
       "Tanzania                   29.145815\n",
       "Thailand                    8.268466\n",
       "Togo                       84.684685\n",
       "Trinidad and Tobago         0.000000\n",
       "Tunisia                     1.729219\n",
       "Turkey                     27.230517\n",
       "Turkmenistan                0.000000\n",
       "Ukraine                     5.663355\n",
       "United Arab Emirates        0.000000\n",
       "United Kingdom             11.433449\n",
       "United States              12.005069\n",
       "Uruguay                    61.726415\n",
       "Uzbekistan                 21.352381\n",
       "Venezuela, RB              64.820260\n",
       "Vietnam                    43.573609\n",
       "World                      20.787592\n",
       "Yemen, Rep.                 0.000000\n",
       "Zambia                     99.696203\n",
       "Zimbabwe                   59.969190\n",
       "Length: 139, dtype: float64"
      ]
     },
     "execution_count": 385,
     "metadata": {},
     "output_type": "execute_result"
    }
   ],
   "source": [
    "dane_koncowe_swiat_2012 = pd.Series(d)\n",
    "dane_koncowe_swiat_2012"
   ]
  },
  {
   "cell_type": "markdown",
   "metadata": {},
   "source": [
    "### Czy mamy dane dobrej jakości?"
   ]
  },
  {
   "cell_type": "code",
   "execution_count": 343,
   "metadata": {},
   "outputs": [
    {
     "name": "stdout",
     "output_type": "stream",
     "text": [
      "min  0.0 \n",
      "max  100.0\n"
     ]
    }
   ],
   "source": [
    "print('min ', dane_koncowe_swiat_2012.min(), '\\nmax ', dane_koncowe_swiat_2012.max())"
   ]
  },
  {
   "cell_type": "code",
   "execution_count": 344,
   "metadata": {},
   "outputs": [
    {
     "data": {
      "text/plain": [
       "False"
      ]
     },
     "execution_count": 344,
     "metadata": {},
     "output_type": "execute_result"
    }
   ],
   "source": [
    "dane_koncowe_swiat_2012.isnull().any()"
   ]
  },
  {
   "cell_type": "code",
   "execution_count": 386,
   "metadata": {},
   "outputs": [
    {
     "data": {
      "text/plain": [
       "count    139.000000\n",
       "mean      32.771794\n",
       "std       31.862983\n",
       "min        0.000000\n",
       "25%        7.785567\n",
       "50%       20.700751\n",
       "75%       59.723742\n",
       "max      100.000000\n",
       "dtype: float64"
      ]
     },
     "execution_count": 386,
     "metadata": {},
     "output_type": "execute_result"
    }
   ],
   "source": [
    "dane_koncowe_swiat_2012.describe()"
   ]
  },
  {
   "cell_type": "code",
   "execution_count": 387,
   "metadata": {},
   "outputs": [
    {
     "data": {
      "text/plain": [
       "10.437756244163982"
      ]
     },
     "execution_count": 387,
     "metadata": {},
     "output_type": "execute_result"
    }
   ],
   "source": [
    "dane_koncowe_swiat_2012['Poland']"
   ]
  },
  {
   "cell_type": "markdown",
   "metadata": {},
   "source": [
    "# Wizualizacja danych"
   ]
  },
  {
   "cell_type": "code",
   "execution_count": 354,
   "metadata": {},
   "outputs": [],
   "source": [
    "%matplotlib inline\n",
    "import matplotlib.patches as patches\n",
    "import matplotlib.path as path"
   ]
  },
  {
   "cell_type": "markdown",
   "metadata": {},
   "source": [
    "### Jak wygląda produkcja energii w Polsce?"
   ]
  },
  {
   "cell_type": "code",
   "execution_count": 195,
   "metadata": {},
   "outputs": [],
   "source": [
    "rok = dane_koncowe.index\n",
    "etykiety = ('Węgiel', 'Hydroelektryka', 'Gaz ziemny', 'Odnawialne źródła energii (bez hydroelektrycznych)', 'Ropa')\n",
    "kolory = ('black', 'blue', 'red', 'green', 'brown')"
   ]
  },
  {
   "cell_type": "code",
   "execution_count": 382,
   "metadata": {},
   "outputs": [
    {
     "data": {
      "image/png": "[encoded data removed]",
      "text/plain": [
       "<matplotlib.figure.Figure at 0x7f01cede2eb8>"
      ]
     },
     "metadata": {},
     "output_type": "display_data"
    }
   ],
   "source": [
    "fig, ax = plt.subplots(figsize=(12,6))\n",
    "\n",
    "for i, e, k in zip((0, 1, 2, 6, 4), etykiety, kolory):\n",
    "    w = wskazniki_elektrycznosc[i]\n",
    "    ax.plot(rok, dane_koncowe[w], color=k, label=e)\n",
    "\n",
    "ax.set_title('Produkcja elektryczna - wkład poszczególnych źródeł energii', fontsize='xx-large')\n",
    "ax.set_xlabel('Rok', fontsize='x-large')\n",
    "ax.set_ylabel('% całkowitej produkcji w Polsce', fontsize='x-large')\n",
    "\n",
    "ax.grid(axis='y')\n",
    "ax.legend(loc=0, fontsize='large')\n",
    "ax.axis([rok[0], rok[-1], 0, 100])\n",
    "\n",
    "plt.savefig('produkcja.png')"
   ]
  },
  {
   "cell_type": "markdown",
   "metadata": {},
   "source": [
    "Ponieważ wkład węgla jest bardzo duży, zobaczmy jak wygląda produkcja tylko dla pozostałych źródeł."
   ]
  },
  {
   "cell_type": "code",
   "execution_count": 381,
   "metadata": {},
   "outputs": [
    {
     "data": {
      "image/png": "[encoded data removed]",
      "text/plain": [
       "<matplotlib.figure.Figure at 0x7f01c704ecc0>"
      ]
     },
     "metadata": {},
     "output_type": "display_data"
    }
   ],
   "source": [
    "fig, ax = plt.subplots(figsize=(12,6))\n",
    "\n",
    "for i, e, k in zip((1, 2, 6, 4), etykiety[1:], kolory[1:]):\n",
    "    w = wskazniki_elektrycznosc[i]\n",
    "    ax.plot(rok, dane_koncowe[w], color=k, label=e)\n",
    "\n",
    "ax.set_title('Wkład poszczególnych źródeł energii, bez węgla', fontsize='xx-large')\n",
    "ax.set_xlabel('Rok', fontsize='x-large')\n",
    "ax.set_ylabel('% całkowitej produkcji w Polsce', fontsize='x-large')\n",
    "\n",
    "ax.grid(axis='y')\n",
    "ax.legend(loc=0, fontsize='large')\n",
    "ax.axis([rok[0], rok[-1], 0, 10])\n",
    "\n",
    "plt.savefig('produkcja-bez-wegla.png')"
   ]
  },
  {
   "cell_type": "markdown",
   "metadata": {},
   "source": [
    "Widzimy, że wkład energii produkowanej z odnawialnych źródeł stale rośnie."
   ]
  },
  {
   "cell_type": "markdown",
   "metadata": {},
   "source": [
    "### Jaki wygląda wkład odnawialnych źródeł energii dla Polski na tle innych krajów?"
   ]
  },
  {
   "cell_type": "code",
   "execution_count": 383,
   "metadata": {},
   "outputs": [
    {
     "data": {
      "image/png": "[encoded data removed]",
      "text/plain": [
       "<matplotlib.figure.Figure at 0x7f01c705f4a8>"
      ]
     },
     "metadata": {},
     "output_type": "display_data"
    }
   ],
   "source": [
    "fig, ax = plt.subplots(figsize=(12, 6))\n",
    "\n",
    "N, bins, patches = ax.hist(dane_koncowe_swiat_2012, bins=20);\n",
    "for patch in patches:\n",
    "    patch.set_facecolor('green')\n",
    "    patch.set_edgecolor('black')\n",
    "\n",
    "ax.annotate(\"Polska\",\n",
    "        xy=(dane_koncowe_swiat_2012['Poland'], 14), xycoords='data',\n",
    "        xytext=(dane_koncowe_swiat_2012['Poland'], 18), textcoords='data',\n",
    "        arrowprops=dict(arrowstyle=\"->\",\n",
    "                        connectionstyle=\"arc3\"),\n",
    "        )\n",
    "\n",
    "ax.set_title('Odnawialne źródła energii na świecie', fontsize='xx-large')\n",
    "ax.set_xlabel('% całkowitej produkcji', fontsize='x-large')\n",
    "ax.set_ylabel('Ilość krajów', fontsize='x-large')\n",
    "\n",
    "plt.savefig('produkcja-na-swiecie.png')"
   ]
  },
  {
   "cell_type": "markdown",
   "metadata": {},
   "source": [
    "Polsce dużo brakuje do czołowych miejsc. Widać jednak, że nie znajduje się także na samym tyle."
   ]
  }
 ],
 "metadata": {
  "kernelspec": {
   "display_name": "Python 3",
   "language": "python",
   "name": "python3"
  },
  "language_info": {
   "codemirror_mode": {
    "name": "ipython",
    "version": 3
   },
   "file_extension": ".py",
   "mimetype": "text/x-python",
   "name": "python",
   "nbconvert_exporter": "python",
   "pygments_lexer": "ipython3",
   "version": "3.5.2"
  }
 },
 "nbformat": 4,
 "nbformat_minor": 2
}
